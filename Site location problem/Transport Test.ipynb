{
 "cells": [
  {
   "cell_type": "code",
   "execution_count": 100,
   "metadata": {},
   "outputs": [],
   "source": [
    "import operator\n",
    "import csv\n",
    "import matplotlib \n",
    "import matplotlib.pyplot\n",
    "import sys\n",
    "#!conda install --yes --prefix {sys.prefix} numpy\n",
    "import numpy\n",
    "import ipywidgets as widgets\n",
    "from IPython.display import Javascript, display\n",
    "from ipywidgets import widgets"
   ]
  },
  {
   "cell_type": "code",
   "execution_count": 130,
   "metadata": {},
   "outputs": [
    {
     "data": {
      "text/plain": [
       "<Figure size 504x504 with 0 Axes>"
      ]
     },
     "metadata": {},
     "output_type": "display_data"
    }
   ],
   "source": [
    "fig = matplotlib.pyplot.figure(figsize=(7, 7))\n",
    "\n",
    "weightedgeology = []\n",
    "weightedpopulation = []\n",
    "weightedtransport = []\n",
    "weighteddem = []"
   ]
  },
  {
   "cell_type": "code",
   "execution_count": 131,
   "metadata": {},
   "outputs": [
    {
     "data": {
      "application/vnd.jupyter.widget-view+json": {
       "model_id": "9ba011a4b3f84c1e871e20eb1be43679",
       "version_major": 2,
       "version_minor": 0
      },
      "text/plain": [
       "IntSlider(value=0, continuous_update=False, description='Geology:', step=10)"
      ]
     },
     "metadata": {},
     "output_type": "display_data"
    },
    {
     "data": {
      "application/vnd.jupyter.widget-view+json": {
       "model_id": "ee1b92b4424e4fa99ce3de4e29ce3b4a",
       "version_major": 2,
       "version_minor": 0
      },
      "text/plain": [
       "IntSlider(value=100, continuous_update=False, description='Transport:', step=10)"
      ]
     },
     "metadata": {},
     "output_type": "display_data"
    },
    {
     "data": {
      "application/vnd.jupyter.widget-view+json": {
       "model_id": "a324e14303e94049aee56509cf86485b",
       "version_major": 2,
       "version_minor": 0
      },
      "text/plain": [
       "IntSlider(value=0, continuous_update=False, description='Population:', step=10)"
      ]
     },
     "metadata": {},
     "output_type": "display_data"
    }
   ],
   "source": [
    "slider1 = widgets.IntSlider(value=0,min=0,max=100,step=10,description='Geology:',disabled=False,continuous_update=False,orientation='horizontal',readout=True,readout_format='d')\n",
    "slider2 = widgets.IntSlider(value=100,min=0,max=100,step=10,description='Transport:',disabled=False,continuous_update=False,orientation='horizontal',readout=True,readout_format='d')\n",
    "slider3 = widgets.IntSlider(value=0,min=0,max=100,step=10,description='Population:',disabled=False,continuous_update=False,orientation='horizontal',readout=True,readout_format='d')\n",
    "display(slider1, slider2, slider3);"
   ]
  },
  {
   "cell_type": "code",
   "execution_count": 132,
   "metadata": {},
   "outputs": [],
   "source": [
    "geologyweight = slider1.value\n",
    "transportweight = slider2.value\n",
    "populationweight = slider3.value"
   ]
  },
  {
   "cell_type": "code",
   "execution_count": 133,
   "metadata": {},
   "outputs": [
    {
     "name": "stdout",
     "output_type": "stream",
     "text": [
      "Finished weighting Geology\n",
      "Finished weighting Transport\n",
      "Finished weighting Population\n"
     ]
    }
   ],
   "source": [
    "# GEOLOGY\n",
    "geology = numpy.array(list(csv.reader(open(\"geology.csv\", encoding='UTF-8'), delimiter=\",\"))).astype(\"int\")\n",
    "weightedgeology = geology*geologyweight\n",
    "print(\"Finished weighting Geology\")\n",
    "# TRANSPORT\n",
    "transport = numpy.array(list(csv.reader(open(\"transport.csv\", encoding='UTF-8'), delimiter=\",\"))).astype(\"int\")\n",
    "weightedtransport = transport\n",
    "print(\"Finished weighting Transport\")\n",
    "# POPULATION\n",
    "population = numpy.array(list(csv.reader(open(\"population.csv\", encoding='UTF-8'), delimiter=\",\"))).astype(\"int\")\n",
    "weightedpopulation = population*populationweight\n",
    "print(\"Finished weighting Population\")"
   ]
  },
  {
   "cell_type": "code",
   "execution_count": 134,
   "metadata": {},
   "outputs": [],
   "source": [
    "weighteddem = numpy.add(weightedgeology, weightedpopulation, transport)"
   ]
  },
  {
   "cell_type": "code",
   "execution_count": 135,
   "metadata": {},
   "outputs": [
    {
     "data": {
      "text/plain": [
       "<matplotlib.image.AxesImage at 0x1d0578791c0>"
      ]
     },
     "execution_count": 135,
     "metadata": {},
     "output_type": "execute_result"
    },
    {
     "data": {
      "image/png": "[encoded data removed]",
      "text/plain": [
       "<Figure size 432x288 with 1 Axes>"
      ]
     },
     "metadata": {
      "needs_background": "light"
     },
     "output_type": "display_data"
    }
   ],
   "source": [
    "matplotlib.pyplot.xlim(0, 335)\n",
    "matplotlib.pyplot.ylim(530, 0)\n",
    "matplotlib.pyplot.imshow(weighteddem)"
   ]
  },
  {
   "cell_type": "code",
   "execution_count": null,
   "metadata": {},
   "outputs": [],
   "source": []
  },
  {
   "cell_type": "code",
   "execution_count": null,
   "metadata": {},
   "outputs": [],
   "source": []
  }
 ],
 "metadata": {
  "kernelspec": {
   "display_name": "Python 3",
   "language": "python",
   "name": "python3"
  },
  "language_info": {
   "codemirror_mode": {
    "name": "ipython",
    "version": 3
   },
   "file_extension": ".py",
   "mimetype": "text/x-python",
   "name": "python",
   "nbconvert_exporter": "python",
   "pygments_lexer": "ipython3",
   "version": "3.8.5"
  }
 },
 "nbformat": 4,
 "nbformat_minor": 4
}
