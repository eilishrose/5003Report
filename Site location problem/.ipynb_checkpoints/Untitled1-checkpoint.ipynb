{
 "cells": [
  {
   "cell_type": "code",
   "execution_count": 1,
   "metadata": {},
   "outputs": [],
   "source": [
    "import operator\n",
    "import csv\n",
    "import matplotlib \n",
    "import matplotlib.pyplot\n",
    "import tkinter\n",
    "import sys\n",
    "#!conda install --yes --prefix {sys.prefix} numpy\n",
    "import numpy\n",
    "import ipywidgets as widgets\n",
    "from IPython.display import Javascript, display\n",
    "from ipywidgets import widgets"
   ]
  },
  {
   "cell_type": "code",
   "execution_count": 2,
   "metadata": {},
   "outputs": [
    {
     "data": {
      "text/plain": [
       "<Figure size 504x504 with 0 Axes>"
      ]
     },
     "metadata": {},
     "output_type": "display_data"
    }
   ],
   "source": [
    "fig = matplotlib.pyplot.figure(figsize=(7, 7))\n",
    "\n",
    "weightedgeology = []\n",
    "weightedpopulation = []\n",
    "weightedtransport = []\n",
    "weighteddem = []\n",
    "\n",
    "slider1 = []\n",
    "slider2 = []\n",
    "slider3 = []"
   ]
  },
  {
   "cell_type": "code",
   "execution_count": 3,
   "metadata": {},
   "outputs": [
    {
     "data": {
      "application/vnd.jupyter.widget-view+json": {
       "model_id": "ed6b094d9dba4dbb99394bcfb78c730f",
       "version_major": 2,
       "version_minor": 0
      },
      "text/plain": [
       "IntSlider(value=20, continuous_update=False, description='Geology:', step=10)"
      ]
     },
     "metadata": {},
     "output_type": "display_data"
    },
    {
     "data": {
      "application/vnd.jupyter.widget-view+json": {
       "model_id": "5f2d52822a624154adebb1343520b8ce",
       "version_major": 2,
       "version_minor": 0
      },
      "text/plain": [
       "IntSlider(value=30, continuous_update=False, description='Population:', step=10)"
      ]
     },
     "metadata": {},
     "output_type": "display_data"
    },
    {
     "data": {
      "application/vnd.jupyter.widget-view+json": {
       "model_id": "4b8f1217c341468ba75b749a983a3eac",
       "version_major": 2,
       "version_minor": 0
      },
      "text/plain": [
       "IntSlider(value=50, continuous_update=False, description='Transport:', step=10)"
      ]
     },
     "metadata": {},
     "output_type": "display_data"
    }
   ],
   "source": [
    "slider1 = widgets.IntSlider(value=20,min=0,max=100,step=10,description='Geology:',disabled=False,continuous_update=False,orientation='horizontal',readout=True,readout_format='d')\n",
    "slider2 = widgets.IntSlider(value=30,min=0,max=100,step=10,description='Population:',disabled=False,continuous_update=False,orientation='horizontal',readout=True,readout_format='d')\n",
    "slider3 = widgets.IntSlider(value=50,min=0,max=100,step=10,description='Transport:',disabled=False,continuous_update=False,orientation='horizontal',readout=True,readout_format='d')\n",
    "display(slider1, slider2, slider3);"
   ]
  },
  {
   "cell_type": "code",
   "execution_count": 10,
   "metadata": {},
   "outputs": [],
   "source": [
    "geologyweight = slider1.value\n",
    "populationweight = slider2.value\n",
    "transportweight = 50"
   ]
  },
  {
   "cell_type": "code",
   "execution_count": 11,
   "metadata": {},
   "outputs": [
    {
     "name": "stdout",
     "output_type": "stream",
     "text": [
      "Finished weighting Geology\n",
      "Finished weighting Population\n"
     ]
    }
   ],
   "source": [
    "# GEOLOGY\n",
    "geology = numpy.array(list(csv.reader(open(\"geology.csv\", encoding='UTF-8'), delimiter=\",\"))).astype(\"int\")\n",
    "weightedgeology = geology*geologyweight\n",
    "print(\"Finished weighting Geology\")\n",
    "# POPULATION\n",
    "population = numpy.array(list(csv.reader(open(\"population.csv\", encoding='UTF-8'), delimiter=\",\"))).astype(\"int\")\n",
    "weightedpopulation = population*populationweight\n",
    "print(\"Finished weighting Population\")"
   ]
  },
  {
   "cell_type": "code",
   "execution_count": 12,
   "metadata": {},
   "outputs": [
    {
     "name": "stdout",
     "output_type": "stream",
     "text": [
      "Finished weighting Transport\n"
     ]
    }
   ],
   "source": [
    "# TRANSPORT\n",
    "transport = numpy.array(list(csv.reader(open(\"transport.csv\", encoding='UTF-8'), delimiter=\",\"))).astype(\"int\")\n",
    "weightedtransport = transport * transportweight\n",
    "print(\"Finished weighting Transport\")"
   ]
  },
  {
   "cell_type": "code",
   "execution_count": 13,
   "metadata": {},
   "outputs": [],
   "source": [
    "# WEIGHTED MAP\n",
    "weighteddem = numpy.add(weightedgeology,weightedpopulation,weightedtransport)  "
   ]
  },
  {
   "cell_type": "code",
   "execution_count": 15,
   "metadata": {},
   "outputs": [
    {
     "data": {
      "image/png": "[encoded data removed]",
      "text/plain": [
       "<Figure size 432x288 with 1 Axes>"
      ]
     },
     "metadata": {
      "needs_background": "light"
     },
     "output_type": "display_data"
    }
   ],
   "source": [
    "matplotlib.pyplot.xlim(0, 335)\n",
    "matplotlib.pyplot.ylim(530, 0)\n",
    "matplotlib.pyplot.imshow(transport)\n",
    "matplotlib.pyplot.show()"
   ]
  },
  {
   "cell_type": "code",
   "execution_count": null,
   "metadata": {},
   "outputs": [],
   "source": []
  }
 ],
 "metadata": {
  "kernelspec": {
   "display_name": "Python 3",
   "language": "python",
   "name": "python3"
  },
  "language_info": {
   "codemirror_mode": {
    "name": "ipython",
    "version": 3
   },
   "file_extension": ".py",
   "mimetype": "text/x-python",
   "name": "python",
   "nbconvert_exporter": "python",
   "pygments_lexer": "ipython3",
   "version": "3.6.6"
  }
 },
 "nbformat": 4,
 "nbformat_minor": 4
}
