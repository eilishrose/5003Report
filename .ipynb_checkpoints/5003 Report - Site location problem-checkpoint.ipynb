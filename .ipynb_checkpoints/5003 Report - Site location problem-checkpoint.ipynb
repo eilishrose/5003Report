{
 "cells": [
  {
   "cell_type": "code",
   "execution_count": null,
   "metadata": {},
   "outputs": [],
   "source": [
    "import csv\n",
    "import matplotlib\n",
    "import matplotlib.pyplot\n",
    "import tkinter\n",
    "#matplotlib.use('TkAgg')"
   ]
  },
  {
   "cell_type": "code",
   "execution_count": null,
   "metadata": {},
   "outputs": [],
   "source": [
    "weight1 = 20\n",
    "weight2 = 30\n",
    "weight3 = 50"
   ]
  },
  {
   "cell_type": "code",
   "execution_count": null,
   "metadata": {},
   "outputs": [],
   "source": [
    "# Import geology data"
   ]
  },
  {
   "cell_type": "code",
   "execution_count": null,
   "metadata": {},
   "outputs": [],
   "source": [
    "f = open('geology.csv', newline='' )\n",
    "geology = []\n",
    "reader = csv.reader(f,  delimiter=',', quoting=csv.QUOTE_NONNUMERIC)\n",
    "for row in reader: \n",
    "    rowlist = []\n",
    "    geology.append(rowlist)\n",
    "    for value in row:\n",
    "        rowlist.append(value)\n",
    "f.close()"
   ]
  },
  {
   "cell_type": "code",
   "execution_count": null,
   "metadata": {},
   "outputs": [],
   "source": [
    "# Map geology data"
   ]
  },
  {
   "cell_type": "code",
   "execution_count": null,
   "metadata": {},
   "outputs": [],
   "source": [
    "matplotlib.pyplot.ylim(530,0)\n",
    "matplotlib.pyplot.xlim(0,335)\n",
    "matplotlib.pyplot.imshow(geology)\n",
    "matplotlib.pyplot.show()"
   ]
  },
  {
   "cell_type": "code",
   "execution_count": null,
   "metadata": {},
   "outputs": [],
   "source": [
    "# Import transport data"
   ]
  },
  {
   "cell_type": "code",
   "execution_count": null,
   "metadata": {},
   "outputs": [],
   "source": [
    "f = open('transport.csv', newline='' )\n",
    "transport = []\n",
    "reader = csv.reader(f,  delimiter=',', quoting=csv.QUOTE_NONNUMERIC)\n",
    "for row in reader: \n",
    "    rowlist = []\n",
    "    transport.append(rowlist)\n",
    "    for value in row:\n",
    "        rowlist.append(value)\n",
    "f.close()"
   ]
  },
  {
   "cell_type": "code",
   "execution_count": null,
   "metadata": {},
   "outputs": [],
   "source": [
    "# Map transport data"
   ]
  },
  {
   "cell_type": "code",
   "execution_count": null,
   "metadata": {},
   "outputs": [],
   "source": [
    "matplotlib.pyplot.ylim(530,0)\n",
    "matplotlib.pyplot.xlim(0,335)\n",
    "matplotlib.pyplot.imshow(transport)\n",
    "matplotlib.pyplot.show()"
   ]
  },
  {
   "cell_type": "code",
   "execution_count": null,
   "metadata": {},
   "outputs": [],
   "source": [
    "#Import population data"
   ]
  },
  {
   "cell_type": "code",
   "execution_count": null,
   "metadata": {},
   "outputs": [],
   "source": [
    "f = open('population.csv', newline='' )\n",
    "population = []\n",
    "reader = csv.reader(f,  delimiter=',', quoting=csv.QUOTE_NONNUMERIC)\n",
    "for row in reader: \n",
    "    rowlist = []\n",
    "    population.append(rowlist)\n",
    "    for value in row:\n",
    "        rowlist.append(value)\n",
    "f.close()"
   ]
  },
  {
   "cell_type": "code",
   "execution_count": null,
   "metadata": {},
   "outputs": [],
   "source": [
    "#Map population data"
   ]
  },
  {
   "cell_type": "code",
   "execution_count": null,
   "metadata": {},
   "outputs": [],
   "source": [
    "matplotlib.pyplot.ylim(530,0)\n",
    "matplotlib.pyplot.xlim(0,335)\n",
    "matplotlib.pyplot.imshow(population)\n",
    "matplotlib.pyplot.show()"
   ]
  },
  {
   "cell_type": "code",
   "execution_count": null,
   "metadata": {},
   "outputs": [],
   "source": []
  }
 ],
 "metadata": {
  "kernelspec": {
   "display_name": "Python 3",
   "language": "python",
   "name": "python3"
  },
  "language_info": {
   "codemirror_mode": {
    "name": "ipython",
    "version": 3
   },
   "file_extension": ".py",
   "mimetype": "text/x-python",
   "name": "python",
   "nbconvert_exporter": "python",
   "pygments_lexer": "ipython3",
   "version": "3.8.5"
  }
 },
 "nbformat": 4,
 "nbformat_minor": 4
}
